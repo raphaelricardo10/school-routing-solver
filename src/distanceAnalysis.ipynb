{
 "cells": [
  {
   "cell_type": "code",
   "execution_count": 27,
   "metadata": {},
   "outputs": [
    {
     "data": {
      "text/plain": [
       "True"
      ]
     },
     "execution_count": 27,
     "metadata": {},
     "output_type": "execute_result"
    }
   ],
   "source": [
    "import os\n",
    "import pickle\n",
    "import math\n",
    "\n",
    "from dotenv import load_dotenv\n",
    "from domain.vehicle import Vehicle\n",
    "from abi.libs.rust_solver_lib import GAParameters\n",
    "from abi.libs.rust_solver_lib import GraspParameters\n",
    "from abi.libs.rust_solver_lib import RustSolverLib\n",
    "from data.stops import stops\n",
    "from distancesAPI import MapsAPI\n",
    "\n",
    "%reload_ext autoreload\n",
    "%autoreload 2\n",
    "\n",
    "load_dotenv(override=True)"
   ]
  },
  {
   "cell_type": "code",
   "execution_count": 28,
   "metadata": {},
   "outputs": [],
   "source": [
    "refetch_distances = False\n",
    "calculate_time = False\n",
    "plot_markers = False"
   ]
  },
  {
   "cell_type": "code",
   "execution_count": 29,
   "metadata": {},
   "outputs": [],
   "source": [
    "addresses = [x.address for x in stops]\n",
    "mapsAPI = MapsAPI(os.getenv('API_KEY'))\n",
    "address_chunks = MapsAPI.split_in_chunks(addresses, 25)\n",
    "distances = mapsAPI.split_distance_request(address_chunks, calculateTime = calculate_time) if refetch_distances else MapsAPI.get_from_cache()\n",
    "distances = MapsAPI.convert_to_symmetric(distances)"
   ]
  },
  {
   "cell_type": "code",
   "execution_count": 30,
   "metadata": {},
   "outputs": [],
   "source": [
    "with open('cache/distance_matrix', 'rb') as f:\n",
    "    best_ever = pickle.load(f)"
   ]
  },
  {
   "cell_type": "code",
   "execution_count": 31,
   "metadata": {},
   "outputs": [],
   "source": [
    "def insert_ids_in_distances(distances):\n",
    "    return [[src_id, dest_id, distance] for src_id, sublist in enumerate(distances) for dest_id, distance in enumerate(sublist)]\n"
   ]
  },
  {
   "cell_type": "code",
   "execution_count": 87,
   "metadata": {},
   "outputs": [
    {
     "name": "stdout",
     "output_type": "stream",
     "text": [
      "32415.0\n",
      "[0, 13, 18, 19, 25, 15, 16, 12, 14, 3, 4, 6, 5, 10, 7, 8, 9, 31, 0]\n",
      "[0, 1, 2, 28, 29, 30, 32, 26, 24, 22, 23, 17, 21, 20, 27, 11, 0]\n"
     ]
    }
   ],
   "source": [
    "number_of_routes = 2\n",
    "distances_with_ids = insert_ids_in_distances(distances)\n",
    "vehicles = [Vehicle(0, 1000), Vehicle(1, 1000), Vehicle(2, 1000), Vehicle(3, 1000)]\n",
    "\n",
    "ga_parameters = GAParameters(\n",
    "    population_size=200,\n",
    "    elite_size=8,\n",
    "    mutation_rate=0.05,\n",
    "    local_search_rate=0.2,\n",
    "    max_crossover_tries=10,\n",
    "    max_generations=1000,\n",
    ")\n",
    "\n",
    "grasp_parameters = GraspParameters(\n",
    "    rcl_size=math.floor(0.3 * len(stops)), max_improvement_times=10\n",
    ")\n",
    "\n",
    "relative_lib_path = f\"../{os.getenv('RUST_SOLVER_LIB')}\"\n",
    "rust_lib = RustSolverLib(os.path.abspath(relative_lib_path))\n",
    "\n",
    "rust_result = rust_lib.run_grasp_genetic_solver(\n",
    "    vehicles[:number_of_routes], stops, distances_with_ids, grasp_parameters, ga_parameters\n",
    ")\n",
    "\n",
    "rust_addresses = [[stop.address for stop in route.stops] for route in rust_result]\n",
    "\n",
    "print(sum(x.total_distance for x in rust_result))\n",
    "print(*[[stop.id for stop in route.stops] for route in rust_result], sep=\"\\n\")"
   ]
  },
  {
   "cell_type": "code",
   "execution_count": 42,
   "metadata": {},
   "outputs": [],
   "source": [
    "best_n2 = [\n",
    "    [0, 14, 3, 4, 6, 5, 7, 10, 20, 21, 16, 31, 28, 29, 30, 32, 0],\n",
    "    [0, 13, 15, 25, 26, 24, 22, 23, 18, 17, 19, 27, 9, 8, 12, 11, 1, 2, 0],\n",
    "]"
   ]
  },
  {
   "cell_type": "code",
   "execution_count": 43,
   "metadata": {},
   "outputs": [],
   "source": [
    "best_n3 = [\n",
    "    [0, 29, 31, 19, 28, 15, 23, 30, 24, 22, 18],\n",
    "    [0, 3, 16, 21, 14, 13, 10, 27, 25, 6, 7, 9, 17, 8, 20, 2, 11, 1, 12],\n",
    "    [0, 5, 26, 4, 32],\n",
    "]"
   ]
  },
  {
   "cell_type": "code",
   "execution_count": 77,
   "metadata": {},
   "outputs": [],
   "source": [
    "best_n4 = [\n",
    "    [0, 7, 5, 8, 9, 10, 27, 18, 24, 16, 20, 0],\n",
    "    [0, 11, 12, 1, 21, 23, 26, 0],\n",
    "    [0, 6, 4, 3, 14, 17, 19, 22, 25, 0],\n",
    "    [0, 2, 31, 28, 29, 30, 32, 15, 13, 0],\n",
    "]"
   ]
  },
  {
   "cell_type": "code",
   "execution_count": 83,
   "metadata": {},
   "outputs": [],
   "source": [
    "def recover_addresses(solution: list[list[int]]):\n",
    "    return [[stops[stop_id].address for stop_id in route] for route in solution]"
   ]
  },
  {
   "cell_type": "code",
   "execution_count": 45,
   "metadata": {},
   "outputs": [],
   "source": [
    "# with open('cache/best_ever', 'wb'):\n",
    "#     pickle.dumps(best)"
   ]
  },
  {
   "cell_type": "code",
   "execution_count": 88,
   "metadata": {},
   "outputs": [],
   "source": [
    "route_addresses = rust_addresses\n",
    "imageCount = 1\n",
    "for route in route_addresses:\n",
    "    directions = mapsAPI.directions(route[0], route[0], route[1: 25])\n",
    "    mapsAPI.save_to_image(directions, f\"n{number_of_routes}_route_{imageCount}\")\n",
    "    imageCount += 1"
   ]
  },
  {
   "cell_type": "code",
   "execution_count": 89,
   "metadata": {},
   "outputs": [],
   "source": [
    "if plot_markers:\n",
    "    plot = mapsAPI.plot_markers(addresses)\n",
    "    with open('test.jpg', 'wb') as f:\n",
    "        for chunk in plot:\n",
    "            f.write(chunk)"
   ]
  }
 ],
 "metadata": {
  "kernelspec": {
   "display_name": "Python 3",
   "language": "python",
   "name": "python3"
  },
  "language_info": {
   "codemirror_mode": {
    "name": "ipython",
    "version": 3
   },
   "file_extension": ".py",
   "mimetype": "text/x-python",
   "name": "python",
   "nbconvert_exporter": "python",
   "pygments_lexer": "ipython3",
   "version": "3.11.3"
  },
  "orig_nbformat": 4,
  "vscode": {
   "interpreter": {
    "hash": "949777d72b0d2535278d3dc13498b2535136f6dfe0678499012e853ee9abcab1"
   }
  }
 },
 "nbformat": 4,
 "nbformat_minor": 2
}
