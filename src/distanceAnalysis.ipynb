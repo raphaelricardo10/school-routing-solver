{
 "cells": [
  {
   "cell_type": "code",
   "execution_count": 96,
   "metadata": {},
   "outputs": [
    {
     "data": {
      "text/plain": [
       "True"
      ]
     },
     "execution_count": 96,
     "metadata": {},
     "output_type": "execute_result"
    }
   ],
   "source": [
    "import os\n",
    "import pandas as pd\n",
    "import pickle\n",
    "\n",
    "from dotenv import load_dotenv\n",
    "from routingGA import RoutingGA\n",
    "from GALib import GALib\n",
    "from data.addresses import addresses\n",
    "from distancesAPI import MapsAPI\n",
    "\n",
    "%reload_ext autoreload\n",
    "%autoreload 2\n",
    "\n",
    "load_dotenv(override=True)"
   ]
  },
  {
   "cell_type": "code",
   "execution_count": 1,
   "metadata": {},
   "outputs": [],
   "source": [
    "refetch_distances = False\n",
    "calculate_time = False\n",
    "plot_markers = False"
   ]
  },
  {
   "cell_type": "code",
   "execution_count": 98,
   "metadata": {},
   "outputs": [],
   "source": [
    "mapsAPI = MapsAPI(os.getenv('API_KEY'))\n",
    "address_chunks = MapsAPI.split_in_chunks(addresses, 25)\n",
    "distances = mapsAPI.split_distance_request(address_chunks, calculateTime = calculate_time) if refetch_distances else MapsAPI.get_from_cache()\n",
    "distances = MapsAPI.convert_to_symmetric(distances)"
   ]
  },
  {
   "cell_type": "code",
   "execution_count": 99,
   "metadata": {},
   "outputs": [],
   "source": [
    "df = pd.DataFrame(distances)"
   ]
  },
  {
   "cell_type": "code",
   "execution_count": 100,
   "metadata": {},
   "outputs": [],
   "source": [
    "with open('cache/distance_matrix', 'rb') as f:\n",
    "    best_ever = pickle.load(f)"
   ]
  },
  {
   "cell_type": "code",
   "execution_count": 127,
   "metadata": {},
   "outputs": [],
   "source": [
    "routingGA = RoutingGA(popSize=200, qtyLocations=len(distances) - 1, qtyRoutes=3,\n",
    "                          maxGenerations=800, selectionK=5, mutationRate=0.05, optRate=0.02,distances=distances)\n",
    "                           \n",
    "lib = GALib(routingGA=routingGA,\n",
    "            libPath=os.getenv('CPP_SOLVER_LIB'))"
   ]
  },
  {
   "cell_type": "code",
   "execution_count": 159,
   "metadata": {},
   "outputs": [
    {
     "name": "stdout",
     "output_type": "stream",
     "text": [
      "7424\n",
      "[24, 9, 2]\n"
     ]
    },
    {
     "data": {
      "text/plain": [
       "[[0,\n",
       "  25,\n",
       "  26,\n",
       "  4,\n",
       "  16,\n",
       "  2,\n",
       "  28,\n",
       "  23,\n",
       "  19,\n",
       "  24,\n",
       "  18,\n",
       "  10,\n",
       "  1,\n",
       "  3,\n",
       "  13,\n",
       "  11,\n",
       "  9,\n",
       "  21,\n",
       "  17,\n",
       "  27,\n",
       "  22,\n",
       "  31,\n",
       "  20,\n",
       "  32],\n",
       " [0, 12, 15, 7, 30, 8, 6, 5, 29],\n",
       " [0, 14]]"
      ]
     },
     "execution_count": 159,
     "metadata": {},
     "output_type": "execute_result"
    }
   ],
   "source": [
    "result = lib.run()\n",
    "print(routingGA.calculate_total_distance(result))\n",
    "print([len(x) for x in result])\n",
    "result"
   ]
  },
  {
   "cell_type": "code",
   "execution_count": 104,
   "metadata": {},
   "outputs": [],
   "source": [
    "best_n2 = [[0, 15, 26, 9, 23, 19, 28, 31, 21, 2, 25, 32, 22, 17, 27, 18, 10, 14],\n",
    " [0, 11, 6, 8, 5, 7, 16, 12, 4, 20, 3, 30, 29, 24, 13, 1]]"
   ]
  },
  {
   "cell_type": "code",
   "execution_count": 147,
   "metadata": {},
   "outputs": [],
   "source": [
    "best_n3 = [[0, 29, 31, 19, 28, 15, 23, 30, 24, 22, 18],\n",
    " [0, 3, 16, 21, 14, 13, 10, 27, 25, 6, 7, 9, 17, 8, 20, 2, 11, 1, 12],\n",
    " [0, 5, 26, 4, 32]]"
   ]
  },
  {
   "cell_type": "code",
   "execution_count": 110,
   "metadata": {},
   "outputs": [],
   "source": [
    "best_n4 = [[0, 30, 29, 31],\n",
    " [0, 11, 15, 12, 14, 5, 22, 1, 13],\n",
    " [0, 4, 3, 28, 2, 20, 19, 17, 27, 25, 24, 10, 8, 7, 9, 6, 32, 26, 16, 21, 18, 23]]"
   ]
  },
  {
   "cell_type": "code",
   "execution_count": 88,
   "metadata": {},
   "outputs": [
    {
     "data": {
      "text/plain": [
       "10982"
      ]
     },
     "execution_count": 88,
     "metadata": {},
     "output_type": "execute_result"
    }
   ],
   "source": [
    "routingGA.calculate_total_distance(result)"
   ]
  },
  {
   "cell_type": "code",
   "execution_count": 89,
   "metadata": {},
   "outputs": [],
   "source": [
    "# with open('cache/best_ever', 'wb'):\n",
    "#     pickle.dumps(best)"
   ]
  },
  {
   "cell_type": "code",
   "execution_count": 90,
   "metadata": {},
   "outputs": [],
   "source": [
    "# route_addresses = [[addresses[y] for y in x] for x in best]\n",
    "# results = mapsAPI.split_directions_request(route_addresses[0])\n",
    "# mapsAPI.save_to_image(results, f\"route_test\")"
   ]
  },
  {
   "cell_type": "code",
   "execution_count": 161,
   "metadata": {},
   "outputs": [],
   "source": [
    "route_addresses = [[addresses[y] for y in x] for x in best_n4]\n",
    "imageCount = 1\n",
    "for route in route_addresses:\n",
    "    directions = mapsAPI.directions(route[0], route[0], route[1: 25])\n",
    "    mapsAPI.save_to_image(directions, f\"n4_route_{imageCount}\")\n",
    "    imageCount += 1"
   ]
  },
  {
   "cell_type": "code",
   "execution_count": null,
   "metadata": {},
   "outputs": [],
   "source": [
    "if plot_markers:\n",
    "    plot = mapsAPI.plot_markers(addresses)\n",
    "    with open('test.jpg', 'wb') as f:\n",
    "        for chunk in plot:\n",
    "            f.write(chunk)"
   ]
  }
 ],
 "metadata": {
  "kernelspec": {
   "display_name": "Python 3.8.10 ('venv': venv)",
   "language": "python",
   "name": "python3"
  },
  "language_info": {
   "codemirror_mode": {
    "name": "ipython",
    "version": 3
   },
   "file_extension": ".py",
   "mimetype": "text/x-python",
   "name": "python",
   "nbconvert_exporter": "python",
   "pygments_lexer": "ipython3",
   "version": "3.8.10"
  },
  "orig_nbformat": 4,
  "vscode": {
   "interpreter": {
    "hash": "f05a8700d02b0bf80292e9a8ff12fc6d1d5cb4c23f0edcc4b46af3b308e591ed"
   }
  }
 },
 "nbformat": 4,
 "nbformat_minor": 2
}
