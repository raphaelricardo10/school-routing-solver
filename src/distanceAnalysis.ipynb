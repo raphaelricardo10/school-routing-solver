{
 "cells": [
  {
   "cell_type": "code",
   "execution_count": 1,
   "metadata": {},
   "outputs": [
    {
     "data": {
      "text/plain": [
       "True"
      ]
     },
     "execution_count": 1,
     "metadata": {},
     "output_type": "execute_result"
    }
   ],
   "source": [
    "import os\n",
    "import pandas as pd\n",
    "import pickle\n",
    "\n",
    "from dotenv import load_dotenv\n",
    "from routingGA import RoutingGA\n",
    "from domain.vehicle import Vehicle\n",
    "from domain.stop import Stop\n",
    "from abi.libs.rust_solver_lib import GAParameters\n",
    "from abi.libs.cpp_solver_lib import GALib\n",
    "from abi.libs.rust_solver_lib import RustSolverLib\n",
    "from data.stops import stops\n",
    "from distancesAPI import MapsAPI\n",
    "\n",
    "%reload_ext autoreload\n",
    "%autoreload 2\n",
    "\n",
    "load_dotenv(override=True)"
   ]
  },
  {
   "cell_type": "code",
   "execution_count": 2,
   "metadata": {},
   "outputs": [],
   "source": [
    "refetch_distances = False\n",
    "calculate_time = False\n",
    "plot_markers = False"
   ]
  },
  {
   "cell_type": "code",
   "execution_count": 3,
   "metadata": {},
   "outputs": [],
   "source": [
    "addresses = [x.address for x in stops]\n",
    "mapsAPI = MapsAPI(os.getenv('API_KEY'))\n",
    "address_chunks = MapsAPI.split_in_chunks(addresses, 25)\n",
    "distances = mapsAPI.split_distance_request(address_chunks, calculateTime = calculate_time) if refetch_distances else MapsAPI.get_from_cache()\n",
    "distances = MapsAPI.convert_to_symmetric(distances)"
   ]
  },
  {
   "cell_type": "code",
   "execution_count": 4,
   "metadata": {},
   "outputs": [],
   "source": [
    "df = pd.DataFrame(distances)"
   ]
  },
  {
   "cell_type": "code",
   "execution_count": 5,
   "metadata": {},
   "outputs": [],
   "source": [
    "with open('cache/distance_matrix', 'rb') as f:\n",
    "    best_ever = pickle.load(f)"
   ]
  },
  {
   "cell_type": "code",
   "execution_count": 6,
   "metadata": {},
   "outputs": [],
   "source": [
    "def insert_ids_in_distances(distances):\n",
    "    return [[src_id, dest_id, distance] for src_id, sublist in enumerate(distances) for dest_id, distance in enumerate(sublist)]\n"
   ]
  },
  {
   "cell_type": "code",
   "execution_count": 53,
   "metadata": {},
   "outputs": [
    {
     "name": "stdout",
     "output_type": "stream",
     "text": [
      "8672.0\n",
      "[0, 10, 8, 6, 7, 5, 3, 4, 31, 1, 15, 24, 19, 21, 13, 14, 0]\n",
      "[0, 12, 11, 16, 25, 26, 23, 22, 18, 17, 27, 9, 20, 32, 30, 29, 28, 2, 0]\n"
     ]
    },
    {
     "data": {
      "text/plain": [
       "[None, None]"
      ]
     },
     "execution_count": 53,
     "metadata": {},
     "output_type": "execute_result"
    }
   ],
   "source": [
    "distances_with_ids = insert_ids_in_distances(distances)\n",
    "vehicles = [Vehicle(0, 1000), Vehicle(1, 1000), Vehicle(2, 1000), Vehicle(3, 1000)]\n",
    "parameters = GAParameters(population_size=200, elite_size=8, mutation_rate=0.05, local_search_rate=0.2, max_crossover_tries=10, max_generations=1000)\n",
    "rust_lib = RustSolverLib(os.getenv('RUST_SOLVER_LIB'))\n",
    "rust_result = rust_lib.run_genetic_solver(vehicles[:2], stops, distances_with_ids, parameters)\n",
    "print(sum(x.total_distance for x in rust_result))\n",
    "[print([y.id for y in x.stops]) for x in rust_result]"
   ]
  },
  {
   "cell_type": "code",
   "execution_count": 8,
   "metadata": {},
   "outputs": [],
   "source": [
    "routingGA = RoutingGA(popSize=200, qtyLocations=len(distances) - 1, qtyRoutes=3,\n",
    "                          maxGenerations=800, selectionK=5, mutationRate=0.05, optRate=0.02,distances=distances)\n",
    "                           \n",
    "lib = GALib(routingGA=routingGA,\n",
    "            libPath=os.getenv('CPP_SOLVER_LIB'))"
   ]
  },
  {
   "cell_type": "code",
   "execution_count": 9,
   "metadata": {},
   "outputs": [
    {
     "name": "stdout",
     "output_type": "stream",
     "text": [
      "9872\n",
      "[8, 11, 1, 25]\n"
     ]
    },
    {
     "data": {
      "text/plain": [
       "[[0, 30, 3, 32, 9, 10, 6, 20],\n",
       " [0, 15, 13, 27, 14, 12, 1, 4, 11, 22, 23],\n",
       " [0],\n",
       " [0,\n",
       "  13,\n",
       "  27,\n",
       "  14,\n",
       "  12,\n",
       "  1,\n",
       "  4,\n",
       "  11,\n",
       "  22,\n",
       "  23,\n",
       "  21,\n",
       "  17,\n",
       "  26,\n",
       "  19,\n",
       "  2,\n",
       "  5,\n",
       "  29,\n",
       "  18,\n",
       "  8,\n",
       "  25,\n",
       "  28,\n",
       "  7,\n",
       "  24,\n",
       "  16,\n",
       "  31]]"
      ]
     },
     "execution_count": 9,
     "metadata": {},
     "output_type": "execute_result"
    }
   ],
   "source": [
    "result = lib.run()\n",
    "print(routingGA.calculate_total_distance(result))\n",
    "print([len(x) for x in result])\n",
    "result"
   ]
  },
  {
   "cell_type": "code",
   "execution_count": 10,
   "metadata": {},
   "outputs": [],
   "source": [
    "best_n2 = [[0, 15, 26, 9, 23, 19, 28, 31, 21, 2, 25, 32, 22, 17, 27, 18, 10, 14],\n",
    " [0, 11, 6, 8, 5, 7, 16, 12, 4, 20, 3, 30, 29, 24, 13, 1]]"
   ]
  },
  {
   "cell_type": "code",
   "execution_count": 11,
   "metadata": {},
   "outputs": [],
   "source": [
    "best_n3 = [[0, 29, 31, 19, 28, 15, 23, 30, 24, 22, 18],\n",
    " [0, 3, 16, 21, 14, 13, 10, 27, 25, 6, 7, 9, 17, 8, 20, 2, 11, 1, 12],\n",
    " [0, 5, 26, 4, 32]]"
   ]
  },
  {
   "cell_type": "code",
   "execution_count": 12,
   "metadata": {},
   "outputs": [],
   "source": [
    "best_n4 = [[0, 30, 29, 31],\n",
    " [0, 11, 15, 12, 14, 5, 22, 1, 13],\n",
    " [0, 4, 3, 28, 2, 20, 19, 17, 27, 25, 24, 10, 8, 7, 9, 6, 32, 26, 16, 21, 18, 23]]"
   ]
  },
  {
   "cell_type": "code",
   "execution_count": 13,
   "metadata": {},
   "outputs": [
    {
     "name": "stdout",
     "output_type": "stream",
     "text": [
      "9872\n",
      "7761.0\n"
     ]
    }
   ],
   "source": [
    "print(routingGA.calculate_total_distance(result))\n",
    "print(sum(x.total_distance for x in rust_result))"
   ]
  },
  {
   "cell_type": "code",
   "execution_count": 14,
   "metadata": {},
   "outputs": [],
   "source": [
    "# with open('cache/best_ever', 'wb'):\n",
    "#     pickle.dumps(best)"
   ]
  },
  {
   "cell_type": "code",
   "execution_count": 15,
   "metadata": {},
   "outputs": [],
   "source": [
    "# route_addresses = [[addresses[y] for y in x] for x in best]\n",
    "# results = mapsAPI.split_directions_request(route_addresses[0])\n",
    "# mapsAPI.save_to_image(results, f\"route_test\")"
   ]
  },
  {
   "cell_type": "code",
   "execution_count": 16,
   "metadata": {},
   "outputs": [],
   "source": [
    "# route_addresses = [[addresses[y] for y in x] for x in best_n4]\n",
    "# imageCount = 1\n",
    "# for route in route_addresses:\n",
    "#     directions = mapsAPI.directions(route[0], route[0], route[1: 25])\n",
    "#     mapsAPI.save_to_image(directions, f\"n4_route_{imageCount}\")\n",
    "#     imageCount += 1"
   ]
  },
  {
   "cell_type": "code",
   "execution_count": 17,
   "metadata": {},
   "outputs": [],
   "source": [
    "if plot_markers:\n",
    "    plot = mapsAPI.plot_markers(addresses)\n",
    "    with open('test.jpg', 'wb') as f:\n",
    "        for chunk in plot:\n",
    "            f.write(chunk)"
   ]
  }
 ],
 "metadata": {
  "kernelspec": {
   "display_name": "Python 3",
   "language": "python",
   "name": "python3"
  },
  "language_info": {
   "codemirror_mode": {
    "name": "ipython",
    "version": 3
   },
   "file_extension": ".py",
   "mimetype": "text/x-python",
   "name": "python",
   "nbconvert_exporter": "python",
   "pygments_lexer": "ipython3",
   "version": "3.11.1"
  },
  "orig_nbformat": 4,
  "vscode": {
   "interpreter": {
    "hash": "949777d72b0d2535278d3dc13498b2535136f6dfe0678499012e853ee9abcab1"
   }
  }
 },
 "nbformat": 4,
 "nbformat_minor": 2
}
